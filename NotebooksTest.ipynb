{
  "nbformat": 4,
  "nbformat_minor": 0,
  "metadata": {
    "colab": {
      "name": "NotebooksTest.ipynb",
      "version": "0.3.2",
      "provenance": [],
      "collapsed_sections": [],
      "include_colab_link": true
    },
    "kernelspec": {
      "name": "python3",
      "display_name": "Python 3"
    }
  },
  "cells": [
    {
      "cell_type": "markdown",
      "metadata": {
        "id": "view-in-github",
        "colab_type": "text"
      },
      "source": [
        "<a href=\"https://colab.research.google.com/github/byroninvin/bookCode_pp/blob/master/NotebooksTest.ipynb\" target=\"_parent\"><img src=\"https://colab.research.google.com/assets/colab-badge.svg\" alt=\"Open In Colab\"/></a>"
      ]
    },
    {
      "metadata": {
        "id": "F7iXr_SL3XVA",
        "colab_type": "text"
      },
      "cell_type": "markdown",
      "source": [
        "# Notebook Basics"
      ]
    },
    {
      "metadata": {
        "id": "Tje3jgDB3c2U",
        "colab_type": "text"
      },
      "cell_type": "markdown",
      "source": [
        "<img src=\"https://raw.githubusercontent.com/GokuMohandas/practicalAI/master/images/logo.png\" width=150>\n",
        "​\n",
        "Welcome to the very first lesson of practicalAI. In this lesson we will learn how to work with the notebook and saving it. If you already know how to use notebooks, feel free to skip this lesson.\n",
        "​\n",
        "<img src=\"https://raw.githubusercontent.com/GokuMohandas/practicalAI/master/images/colab.png\" width=150>\n",
        "​\n",
        "**Note**: To run the code in this notebook, follow these steps:\n",
        "1. Sign into your Google account.\n",
        "2. Click the **COPY TO DRIVE** button on the toolbar. This will open the notebook on a new tab.\n",
        "​\n",
        "<img src=\"https://raw.githubusercontent.com/GokuMohandas/practicalAI/master/images/copy_to_drive.png\">\n",
        "​\n",
        "3. Rename this new notebook by removing the **Copy of** part in the title.\n",
        "4. Run the code, make changes, etc. and it's all automatically saved to you personal Google Drive.\n",
        "​\n",
        "​"
      ]
    },
    {
      "metadata": {
        "id": "4OuswRzl3jFN",
        "colab_type": "text"
      },
      "cell_type": "markdown",
      "source": [
        "# Creating a code cell\n",
        "Now let's take the same steps as above to create, edit and delete a code cell. You can create a code cell by clicking on the ➕CODE below the *File* menu at the top. Once you have created the cell, click on it and type the following inside it:\n",
        "\n",
        "```\n",
        "print (\"hello world!\")\n",
        "```\n",
        "\n",
        "⏰  -   It may take a few seconds when you run your first code cell."
      ]
    },
    {
      "metadata": {
        "id": "pqhGJNkf3dng",
        "colab_type": "code",
        "colab": {
          "base_uri": "https://localhost:8080/",
          "height": 35
        },
        "outputId": "f58ea953-67b5-4e43-c79b-86db270d721e"
      },
      "cell_type": "code",
      "source": [
        "print(\"hello world@!\")"
      ],
      "execution_count": 2,
      "outputs": [
        {
          "output_type": "stream",
          "text": [
            "hello world@!\n"
          ],
          "name": "stdout"
        }
      ]
    },
    {
      "metadata": {
        "id": "_VupDrc53oE3",
        "colab_type": "code",
        "colab": {}
      },
      "cell_type": "code",
      "source": [
        ""
      ],
      "execution_count": 0,
      "outputs": []
    },
    {
      "metadata": {
        "id": "SDBw8V5e3rd2",
        "colab_type": "code",
        "colab": {}
      },
      "cell_type": "code",
      "source": [
        ""
      ],
      "execution_count": 0,
      "outputs": []
    },
    {
      "metadata": {
        "id": "q9pJbVnQ3vk5",
        "colab_type": "code",
        "colab": {}
      },
      "cell_type": "code",
      "source": [
        ""
      ],
      "execution_count": 0,
      "outputs": []
    }
  ]
}